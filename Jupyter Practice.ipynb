{
 "cells": [
  {
   "cell_type": "markdown",
   "id": "dcf328f2",
   "metadata": {},
   "source": [
    "# My Jupyter Notebook on IBM Watson Studio"
   ]
  },
  {
   "cell_type": "markdown",
   "id": "b60de864",
   "metadata": {},
   "source": [
    "**Anne Marie Newman**  \n",
    "Data Scientist"
   ]
  },
  {
   "cell_type": "markdown",
   "id": "2bcf198b",
   "metadata": {},
   "source": [
    "_I am interested in Data Science because I have recently taken a new job where I need to know more about data science practices and projects.  Although I have worked as an advanced analst and business leader for many years, I am discovering that I need to do more to stay on top of this field._"
   ]
  },
  {
   "cell_type": "markdown",
   "id": "8dde3ea1",
   "metadata": {},
   "source": [
    "### The code in the following cell is supposed to find the product of 6 and 8. ###"
   ]
  },
  {
   "cell_type": "code",
   "execution_count": 5,
   "id": "5d770e68",
   "metadata": {},
   "outputs": [
    {
     "data": {
      "text/plain": [
       "48"
      ]
     },
     "execution_count": 5,
     "metadata": {},
     "output_type": "execute_result"
    }
   ],
   "source": [
    "6*8"
   ]
  },
  {
   "cell_type": "markdown",
   "id": "a312eb90",
   "metadata": {},
   "source": [
    "### Jupyter is cool because... ### \n",
    "1. You can put code in the same file as images and visualizations.  \n",
    "2. It is easy to share with other data scientists.  \n",
    "3. It is easy to test code without having to run batch processes.  \n",
    "  \n",
    "Here is an image of a cat:  \n",
    "![image of a cute cat](https://images.unsplash.com/photo-1529778873920-4da4926a72c2?ixlib=rb-4.0.3&ixid=MnwxMjA3fDB8MHxzZWFyY2h8Mnx8Y3V0ZSUyMGNhdHxlbnwwfHwwfHw%3D&w=1000&q=80)\n",
    "\n",
    "~~I do not think cats are that cute.~~"
   ]
  },
  {
   "cell_type": "code",
   "execution_count": null,
   "id": "cd256f3a",
   "metadata": {},
   "outputs": [],
   "source": []
  }
 ],
 "metadata": {
  "kernelspec": {
   "display_name": "Python 3 (ipykernel)",
   "language": "python",
   "name": "python3"
  },
  "language_info": {
   "codemirror_mode": {
    "name": "ipython",
    "version": 3
   },
   "file_extension": ".py",
   "mimetype": "text/x-python",
   "name": "python",
   "nbconvert_exporter": "python",
   "pygments_lexer": "ipython3",
   "version": "3.9.12"
  }
 },
 "nbformat": 4,
 "nbformat_minor": 5
}
